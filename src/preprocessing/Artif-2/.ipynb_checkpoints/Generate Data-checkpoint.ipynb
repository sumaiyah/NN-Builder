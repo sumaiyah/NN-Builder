{
 "cells": [
  {
   "cell_type": "code",
   "execution_count": 2,
   "metadata": {},
   "outputs": [],
   "source": [
    "import pandas as pd\n",
    "import numpy as np\n",
    "import string\n",
    "import random"
   ]
  },
  {
   "cell_type": "markdown",
   "metadata": {},
   "source": [
    "# Generate Train and Test Data for Artif-2 Dataset\n",
    "\n",
    "x1 {0, 0.5, 1}  \n",
    "x2 {0, 0.25, 0.5, 0.75, 1}  \n",
    "x3 {0,1}  \n",
    "x4 {0,1}  \n",
    "x5 {0,1}\n",
    "\n",
    "IF x1 = x2 THEN y = y0    \n",
    "IF x1 > x2 AND x3 > 0.4 THEN y = y0  \n",
    "IF x5 > 0.8 THEN y=y0  \n",
    "ELSE y = y1"
   ]
  },
  {
   "cell_type": "code",
   "execution_count": 3,
   "metadata": {},
   "outputs": [],
   "source": [
    "x1_range = [0, 0.5, 1]\n",
    "x2_range = [0, 0.25, 0.5, 0.75, 1]\n",
    "x345_range = [0, 1]\n",
    "\n",
    "# Generate data from boolean formula\n",
    "def generate_instance():\n",
    "    # Generate data instance\n",
    "    x1 = random.choice(x1_range)\n",
    "    x2 = random.choice(x2_range)\n",
    "    x3 = random.choice(x345_range)\n",
    "    x4 = random.choice(x345_range)\n",
    "    x5 = random.choice(x345_range)\n",
    "\n",
    "    target = 1\n",
    "    if x1 == x2:\n",
    "        target = 0\n",
    "\n",
    "    if (x1 > x2) and (x3 > 0.4):\n",
    "        target = 0\n",
    "    if x5 > 0.8:\n",
    "        target = 0\n",
    "\n",
    "    return [x1, x2, x3, x4, x5, target]"
   ]
  },
  {
   "cell_type": "code",
   "execution_count": 5,
   "metadata": {},
   "outputs": [],
   "source": [
    "data = [generate_instance() for _ in range(5000)]"
   ]
  },
  {
   "cell_type": "code",
   "execution_count": 6,
   "metadata": {},
   "outputs": [],
   "source": [
    "# Shuffle and store data\n",
    "pd.DataFrame(data=data, columns=['x1','x2','x3','x4','x5', 'target']).sample(frac=1).reset_index(drop=True).to_csv('data.csv', index=False)"
   ]
  }
 ],
 "metadata": {
  "kernelspec": {
   "display_name": "Python 3",
   "language": "python",
   "name": "python3"
  },
  "language_info": {
   "codemirror_mode": {
    "name": "ipython",
    "version": 3
   },
   "file_extension": ".py",
   "mimetype": "text/x-python",
   "name": "python",
   "nbconvert_exporter": "python",
   "pygments_lexer": "ipython3",
   "version": "3.6.6"
  }
 },
 "nbformat": 4,
 "nbformat_minor": 4
}
