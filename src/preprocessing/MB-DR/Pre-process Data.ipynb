{
 "cells": [
  {
   "cell_type": "code",
   "execution_count": 1,
   "metadata": {},
   "outputs": [],
   "source": [
    "import sys\n",
    "sys.path.append('C:/Users/sumaiyah/OneDrive - University Of Cambridge/Project/NN-Builder/src/preprocessing/')"
   ]
  },
  {
   "cell_type": "code",
   "execution_count": 2,
   "metadata": {},
   "outputs": [],
   "source": [
    "# Python Libraries\n",
    "import numpy as np\n",
    "import pandas as pd\n",
    "from sklearn import preprocessing"
   ]
  },
  {
   "cell_type": "markdown",
   "metadata": {},
   "source": [
    "# Generate Training and test data from the Metabric dataset\n",
    "For DR classification"
   ]
  },
  {
   "cell_type": "code",
   "execution_count": 3,
   "metadata": {},
   "outputs": [
    {
     "name": "stderr",
     "output_type": "stream",
     "text": [
      "c:\\users\\sumaiyah\\appdata\\local\\programs\\python\\python36\\lib\\site-packages\\IPython\\core\\interactiveshell.py:3058: DtypeWarning: Columns (19,20) have mixed types. Specify dtype option on import or set low_memory=False.\n",
      "  interactivity=interactivity, compiler=compiler, result=result)\n"
     ]
    }
   ],
   "source": [
    "data = pd.read_csv('../MB-ER/data.csv')"
   ]
  },
  {
   "cell_type": "code",
   "execution_count": 4,
   "metadata": {},
   "outputs": [
    {
     "data": {
      "text/html": [
       "<div>\n",
       "<style scoped>\n",
       "    .dataframe tbody tr th:only-of-type {\n",
       "        vertical-align: middle;\n",
       "    }\n",
       "\n",
       "    .dataframe tbody tr th {\n",
       "        vertical-align: top;\n",
       "    }\n",
       "\n",
       "    .dataframe thead th {\n",
       "        text-align: right;\n",
       "    }\n",
       "</style>\n",
       "<table border=\"1\" class=\"dataframe\">\n",
       "  <thead>\n",
       "    <tr style=\"text-align: right;\">\n",
       "      <th></th>\n",
       "      <th>GE_GRB7</th>\n",
       "      <th>GE_LSM1</th>\n",
       "      <th>GE_CLNS1A</th>\n",
       "      <th>GE_STARD3</th>\n",
       "      <th>GE_PPFIA1</th>\n",
       "      <th>GE_ERBB2</th>\n",
       "      <th>GE_INTS4</th>\n",
       "      <th>GE_ORMDL3</th>\n",
       "      <th>GE_PSMB3</th>\n",
       "      <th>GE_MTERFD1</th>\n",
       "      <th>...</th>\n",
       "      <th>GE_ZNHIT3</th>\n",
       "      <th>GE_FOXM1</th>\n",
       "      <th>GE_EXOC3</th>\n",
       "      <th>GE_ARMC7</th>\n",
       "      <th>GE_KCTD2</th>\n",
       "      <th>GE_PDCD10</th>\n",
       "      <th>GE_RHOD</th>\n",
       "      <th>GE_YBX1</th>\n",
       "      <th>GE_TRIM24</th>\n",
       "      <th>target</th>\n",
       "    </tr>\n",
       "  </thead>\n",
       "  <tbody>\n",
       "    <tr>\n",
       "      <th>0</th>\n",
       "      <td>6.487146</td>\n",
       "      <td>11.031136</td>\n",
       "      <td>10.079148</td>\n",
       "      <td>6.031175</td>\n",
       "      <td>9.487621</td>\n",
       "      <td>9.729606</td>\n",
       "      <td>8.253549</td>\n",
       "      <td>6.511952</td>\n",
       "      <td>10.423016</td>\n",
       "      <td>8.419615</td>\n",
       "      <td>...</td>\n",
       "      <td>7.922863</td>\n",
       "      <td>5.677913</td>\n",
       "      <td>7.426484</td>\n",
       "      <td>6.194931</td>\n",
       "      <td>5.962671</td>\n",
       "      <td>9.093493</td>\n",
       "      <td>9.407661</td>\n",
       "      <td>9.526590</td>\n",
       "      <td>7.306828</td>\n",
       "      <td>0</td>\n",
       "    </tr>\n",
       "    <tr>\n",
       "      <th>1</th>\n",
       "      <td>6.479166</td>\n",
       "      <td>10.873850</td>\n",
       "      <td>10.322188</td>\n",
       "      <td>5.846570</td>\n",
       "      <td>9.053110</td>\n",
       "      <td>9.725825</td>\n",
       "      <td>7.873861</td>\n",
       "      <td>6.627166</td>\n",
       "      <td>11.203083</td>\n",
       "      <td>8.515613</td>\n",
       "      <td>...</td>\n",
       "      <td>8.724618</td>\n",
       "      <td>6.054136</td>\n",
       "      <td>7.013241</td>\n",
       "      <td>6.641685</td>\n",
       "      <td>5.784853</td>\n",
       "      <td>9.330020</td>\n",
       "      <td>8.623256</td>\n",
       "      <td>9.545137</td>\n",
       "      <td>8.624840</td>\n",
       "      <td>1</td>\n",
       "    </tr>\n",
       "    <tr>\n",
       "      <th>2</th>\n",
       "      <td>7.874277</td>\n",
       "      <td>11.381911</td>\n",
       "      <td>9.550389</td>\n",
       "      <td>6.212065</td>\n",
       "      <td>8.822194</td>\n",
       "      <td>10.334979</td>\n",
       "      <td>7.312676</td>\n",
       "      <td>7.164516</td>\n",
       "      <td>11.910947</td>\n",
       "      <td>9.153356</td>\n",
       "      <td>...</td>\n",
       "      <td>9.420298</td>\n",
       "      <td>5.774602</td>\n",
       "      <td>7.374062</td>\n",
       "      <td>6.782999</td>\n",
       "      <td>6.655940</td>\n",
       "      <td>9.856422</td>\n",
       "      <td>9.663621</td>\n",
       "      <td>9.942894</td>\n",
       "      <td>8.278145</td>\n",
       "      <td>0</td>\n",
       "    </tr>\n",
       "    <tr>\n",
       "      <th>3</th>\n",
       "      <td>6.351296</td>\n",
       "      <td>10.433402</td>\n",
       "      <td>9.736490</td>\n",
       "      <td>5.885852</td>\n",
       "      <td>8.981401</td>\n",
       "      <td>9.739996</td>\n",
       "      <td>7.728910</td>\n",
       "      <td>6.663150</td>\n",
       "      <td>11.050693</td>\n",
       "      <td>8.540313</td>\n",
       "      <td>...</td>\n",
       "      <td>7.378990</td>\n",
       "      <td>6.735173</td>\n",
       "      <td>7.453835</td>\n",
       "      <td>7.132947</td>\n",
       "      <td>6.392015</td>\n",
       "      <td>8.899136</td>\n",
       "      <td>8.579820</td>\n",
       "      <td>9.795769</td>\n",
       "      <td>7.705012</td>\n",
       "      <td>1</td>\n",
       "    </tr>\n",
       "    <tr>\n",
       "      <th>4</th>\n",
       "      <td>6.354046</td>\n",
       "      <td>11.074266</td>\n",
       "      <td>9.968607</td>\n",
       "      <td>5.876592</td>\n",
       "      <td>8.861144</td>\n",
       "      <td>9.276507</td>\n",
       "      <td>7.643929</td>\n",
       "      <td>6.793206</td>\n",
       "      <td>11.425601</td>\n",
       "      <td>8.650009</td>\n",
       "      <td>...</td>\n",
       "      <td>9.538950</td>\n",
       "      <td>5.665971</td>\n",
       "      <td>6.726317</td>\n",
       "      <td>6.362663</td>\n",
       "      <td>6.229215</td>\n",
       "      <td>10.877762</td>\n",
       "      <td>8.127024</td>\n",
       "      <td>9.346105</td>\n",
       "      <td>7.549302</td>\n",
       "      <td>0</td>\n",
       "    </tr>\n",
       "  </tbody>\n",
       "</table>\n",
       "<p>5 rows × 1001 columns</p>\n",
       "</div>"
      ],
      "text/plain": [
       "    GE_GRB7    GE_LSM1  GE_CLNS1A  GE_STARD3  GE_PPFIA1   GE_ERBB2  GE_INTS4  \\\n",
       "0  6.487146  11.031136  10.079148   6.031175   9.487621   9.729606  8.253549   \n",
       "1  6.479166  10.873850  10.322188   5.846570   9.053110   9.725825  7.873861   \n",
       "2  7.874277  11.381911   9.550389   6.212065   8.822194  10.334979  7.312676   \n",
       "3  6.351296  10.433402   9.736490   5.885852   8.981401   9.739996  7.728910   \n",
       "4  6.354046  11.074266   9.968607   5.876592   8.861144   9.276507  7.643929   \n",
       "\n",
       "   GE_ORMDL3   GE_PSMB3  GE_MTERFD1  ...  GE_ZNHIT3  GE_FOXM1  GE_EXOC3  \\\n",
       "0   6.511952  10.423016    8.419615  ...   7.922863  5.677913  7.426484   \n",
       "1   6.627166  11.203083    8.515613  ...   8.724618  6.054136  7.013241   \n",
       "2   7.164516  11.910947    9.153356  ...   9.420298  5.774602  7.374062   \n",
       "3   6.663150  11.050693    8.540313  ...   7.378990  6.735173  7.453835   \n",
       "4   6.793206  11.425601    8.650009  ...   9.538950  5.665971  6.726317   \n",
       "\n",
       "   GE_ARMC7  GE_KCTD2  GE_PDCD10   GE_RHOD   GE_YBX1  GE_TRIM24  target  \n",
       "0  6.194931  5.962671   9.093493  9.407661  9.526590   7.306828       0  \n",
       "1  6.641685  5.784853   9.330020  8.623256  9.545137   8.624840       1  \n",
       "2  6.782999  6.655940   9.856422  9.663621  9.942894   8.278145       0  \n",
       "3  7.132947  6.392015   8.899136  8.579820  9.795769   7.705012       1  \n",
       "4  6.362663  6.229215  10.877762  8.127024  9.346105   7.549302       0  \n",
       "\n",
       "[5 rows x 1001 columns]"
      ]
     },
     "execution_count": 4,
     "metadata": {},
     "output_type": "execute_result"
    }
   ],
   "source": [
    "# only considering a subset of genes shows to have biological relevance\n",
    "feature_col_names = [col for col in data if col.startswith('GE_')]\n",
    "\n",
    "target_col_name = 'DR'\n",
    "data = data[feature_col_names+[target_col_name]].rename(columns={target_col_name: 'target'})\n",
    "\n",
    "data.head()"
   ]
  },
  {
   "cell_type": "code",
   "execution_count": 5,
   "metadata": {},
   "outputs": [],
   "source": [
    "# Column names\n",
    "col_names = data.columns"
   ]
  },
  {
   "cell_type": "code",
   "execution_count": 6,
   "metadata": {},
   "outputs": [],
   "source": [
    "X = data.iloc[:,0:1000].values  # [rows, cols]\n",
    "y = data['target'].values"
   ]
  },
  {
   "cell_type": "code",
   "execution_count": 7,
   "metadata": {},
   "outputs": [],
   "source": [
    "# Scale attributes so that theyre 0-1 so that larger weights do not carry more signifcance in the network\n",
    "from sklearn.preprocessing import MinMaxScaler\n",
    "scaler = MinMaxScaler() \n",
    "X = scaler.fit_transform(X)"
   ]
  },
  {
   "cell_type": "code",
   "execution_count": 8,
   "metadata": {},
   "outputs": [],
   "source": [
    "# Split data\n",
    "from sklearn.model_selection import train_test_split\n",
    "X_train, X_test, y_train, y_test = train_test_split(X, y, test_size=0.2, random_state=1)"
   ]
  },
  {
   "cell_type": "code",
   "execution_count": 9,
   "metadata": {},
   "outputs": [],
   "source": [
    "# Save data \n",
    "from helpers import save_data\n",
    "save_data(X=X_train, y=y_train, col_names=col_names, filename='train_data.csv')\n",
    "save_data(X=X_test, y=y_test, col_names=col_names, filename='test_data.csv')"
   ]
  },
  {
   "cell_type": "code",
   "execution_count": null,
   "metadata": {},
   "outputs": [],
   "source": []
  }
 ],
 "metadata": {
  "kernelspec": {
   "display_name": "Python 3",
   "language": "python",
   "name": "python3"
  },
  "language_info": {
   "codemirror_mode": {
    "name": "ipython",
    "version": 3
   },
   "file_extension": ".py",
   "mimetype": "text/x-python",
   "name": "python",
   "nbconvert_exporter": "python",
   "pygments_lexer": "ipython3",
   "version": "3.6.6"
  }
 },
 "nbformat": 4,
 "nbformat_minor": 4
}
