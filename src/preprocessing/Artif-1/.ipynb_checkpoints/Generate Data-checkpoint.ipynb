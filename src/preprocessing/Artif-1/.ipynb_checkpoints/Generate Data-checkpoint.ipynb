{
 "cells": [
  {
   "cell_type": "code",
   "execution_count": 1,
   "metadata": {},
   "outputs": [],
   "source": [
    "import pandas as pd\n",
    "import random"
   ]
  },
  {
   "cell_type": "markdown",
   "metadata": {},
   "source": [
    "# Generate Data\n",
    "x1 {0, 0.5, 1}  \n",
    "x2 {0, 0.25, 0.5, 0.75, 1}  \n",
    "x3 {0,1}  \n",
    "x4 {0,1}  \n",
    "x5 {0,1}\n",
    "\n",
    "IF x1 = x2 THEN y = y1  \n",
    "IF x1 > x2 AND x3 > 0.4 THEN y = y1  \n",
    "IF x3 > x4 AND x4 > x5 AND x2 > 0 THEN y = y1\n",
    "ELSE y = y0"
   ]
  },
  {
   "cell_type": "code",
   "execution_count": 2,
   "metadata": {},
   "outputs": [],
   "source": [
    "# Generate data from boolean formula\n",
    "x1_range = [0, 0.5, 1]\n",
    "x2_range = [0, 0.25, 0.5, 0.75, 1]\n",
    "x345_range = [0, 1]\n",
    "\n",
    "def generate_instance():\n",
    "    # Generate data instance\n",
    "    x1 = random.choice(x1_range)\n",
    "    x2 = random.choice(x2_range)\n",
    "    x3 = random.choice(x345_range)\n",
    "    x4 = random.choice(x345_range)\n",
    "    x5 = random.choice(x345_range)\n",
    "    \n",
    "    target = 0\n",
    "    if x1==x2:\n",
    "        target = 1\n",
    "        \n",
    "    if (x1 > x2) and (x3 > 0.4):\n",
    "        target = 1\n",
    "    if (x3 > x4) and (x4 > x5) and (x2 > 0):\n",
    "        target = 1\n",
    "        \n",
    "    return [x1, x2, x3, x4, x5, target]"
   ]
  },
  {
   "cell_type": "code",
   "execution_count": 3,
   "metadata": {},
   "outputs": [],
   "source": [
    "data = [generate_instance() for _ in range(30000)]"
   ]
  },
  {
   "cell_type": "code",
   "execution_count": 4,
   "metadata": {},
   "outputs": [],
   "source": [
    "# Shuffle and store data\n",
    "pd.DataFrame(data=data, columns=['x1','x2','x3','x4','x5', 'target']).sample(frac=1).reset_index(drop=True).to_csv('data.csv', index=False)"
   ]
  }
 ],
 "metadata": {
  "kernelspec": {
   "display_name": "Python 3",
   "language": "python",
   "name": "python3"
  },
  "language_info": {
   "codemirror_mode": {
    "name": "ipython",
    "version": 3
   },
   "file_extension": ".py",
   "mimetype": "text/x-python",
   "name": "python",
   "nbconvert_exporter": "python",
   "pygments_lexer": "ipython3",
   "version": "3.6.6"
  }
 },
 "nbformat": 4,
 "nbformat_minor": 4
}
